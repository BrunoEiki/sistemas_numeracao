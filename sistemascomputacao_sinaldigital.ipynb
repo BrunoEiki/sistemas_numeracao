{
 "cells": [
  {
   "cell_type": "code",
   "execution_count": null,
   "metadata": {},
   "outputs": [],
   "source": [
    "# Converter de Binário para Decimal\n",
    "\n",
    "valor_binario = str(input(\"Valor no sistema binário: \"))\n",
    "conversao_decimal = 0\n",
    "expoente = len(valor_binario) - 1\n",
    "for i in valor_binario:\n",
    "    conversao_decimal = conversao_decimal + (int(i) * (2**expoente))\n",
    "    expoente -= 1\n",
    "\n",
    "print(conversao_decimal)\n"
   ]
  },
  {
   "cell_type": "markdown",
   "metadata": {},
   "source": [
    "### "
   ]
  },
  {
   "cell_type": "code",
   "execution_count": 135,
   "metadata": {},
   "outputs": [
    {
     "name": "stdout",
     "output_type": "stream",
     "text": [
      "Valor no sistema decimal: 23\n",
      "10111\n"
     ]
    }
   ],
   "source": [
    "# Converter de Decimal para Binário\n",
    "\n",
    "valor_decimal = int(input('Valor no sistema decimal: '))\n",
    "conversao_binario = ''\n",
    "while valor_decimal >= 2:\n",
    "    conversao_binario = str(valor_decimal % 2) + conversao_binario\n",
    "    valor_decimal = valor_decimal // 2\n",
    "\n",
    "if conversao_binario != '': \n",
    "    conversao_binario = '1' + conversao_binario\n",
    "if conversao_binario == '':\n",
    "    conversao_binario = str(valor_decimal)\n",
    "    \n",
    "print(conversao_binario)"
   ]
  },
  {
   "cell_type": "code",
   "execution_count": null,
   "metadata": {},
   "outputs": [
    {
     "name": "stdout",
     "output_type": "stream",
     "text": [
      "\n",
      "Decimal--> Binário: 0 || Binário--> Decimal: 1 \n",
      "Insira a opção desejada: 0\n",
      "Valor no sistema decimal: 21,47\n",
      "21 47\n",
      "10101.011110000101000\n"
     ]
    }
   ],
   "source": [
    "# Converter um fracionário decimal para binário, e vice-versa\n",
    "def convertor_geral(interruptor):\n",
    "    if interruptor == 0:\n",
    "        valor_decimal = str(input('Valor no sistema decimal: '))\n",
    "        if valor_decimal.find('.') == -1 and valor_decimal.find(',') == -1:\n",
    "            valor_decimal += '.0'\n",
    "        valor_decimal = valor_decimal.replace('.', ' ')\n",
    "        valor_decimal = valor_decimal.replace(',', ' ')\n",
    "        print(valor_decimal)\n",
    "        decimal_inteiro, decimal_fracionado = valor_decimal.split()\n",
    "        \n",
    "        # Parte inteira\n",
    "        binario_inteiro_convertido = ''\n",
    "        decimal_inteiro = int(decimal_inteiro)\n",
    "        while decimal_inteiro >= 2:\n",
    "            binario_inteiro_convertido = str(decimal_inteiro % 2) + binario_inteiro_convertido\n",
    "            decimal_inteiro = decimal_inteiro // 2\n",
    "            \n",
    "        if binario_inteiro_convertido != '': \n",
    "            binario_inteiro_convertido = '1' + binario_inteiro_convertido\n",
    "        else:\n",
    "            binario_inteiro_convertido = str(decimal_inteiro)\n",
    "        \n",
    "        \n",
    "        # Parte fracionada\n",
    "        binario_fracionado_convertido = ''\n",
    "        decimal_fracionado = float('0.' + decimal_fracionado)\n",
    "        for i in range(15):\n",
    "            decimal_fracionado = decimal_fracionado * 2\n",
    "            if decimal_fracionado < 1:\n",
    "                binario_fracionado_convertido = binario_fracionado_convertido + '0'\n",
    "            elif decimal_fracionado > 1:\n",
    "                binario_fracionado_convertido = binario_fracionado_convertido + '1'\n",
    "                decimal_fracionado = decimal_fracionado - 1\n",
    "            else:\n",
    "                binario_fracionado_convertido = binario_fracionado_convertido + '1'\n",
    "                break\n",
    "        print(binario_inteiro_convertido + '.' + binario_fracionado_convertido)\n",
    "        \n",
    "    elif interruptor == 1:\n",
    "        valor_binario = str(input(\"Valor no sistema binário: \"))\n",
    "        if valor_binario.find('.') == -1 and valor_binario.find(',') == -1:\n",
    "            valor_binario += '.0'\n",
    "        valor_binario = valor_binario.replace('.', ' ')\n",
    "        valor_binario = valor_binario.replace(',', ' ')\n",
    "        binario_inteiro, binario_fracionado = valor_binario.split()\n",
    "        \n",
    "        # Parte inteira\n",
    "        decimal_inteiro_convertido = 0\n",
    "        expoente = len(binario_inteiro) - 1\n",
    "        for i in binario_inteiro:\n",
    "            decimal_inteiro_convertido = decimal_inteiro_convertido + (int(i) * (2**expoente))\n",
    "            expoente -= 1\n",
    "        \n",
    "        # Parte decimal\n",
    "        decimal_fracionado_convertido = 0\n",
    "        expoente = -1\n",
    "        for i in binario_fracionado:\n",
    "            decimal_fracionado_convertido = decimal_fracionado_convertido + (int(i) * (2**expoente))\n",
    "            expoente -= 1\n",
    "        print(decimal_inteiro_convertido + decimal_fracionado_convertido)\n",
    "            \n",
    "    else:\n",
    "        print('Valor não reconhecido.')\n",
    "\n",
    "cont = 'S'\n",
    "while cont == 'S':\n",
    "    interruptor = int(input('\\nDecimal--> Binário: 0 || Binário--> Decimal: 1 \\nInsira a opção desejada: '))\n",
    "    convertor_geral(interruptor)\n",
    "    cont = str(input('Para sair insira qualquer dígito(exceto S): '))\n"
   ]
  },
  {
   "cell_type": "code",
   "execution_count": null,
   "metadata": {},
   "outputs": [],
   "source": []
  },
  {
   "cell_type": "code",
   "execution_count": null,
   "metadata": {},
   "outputs": [],
   "source": []
  }
 ],
 "metadata": {
  "kernelspec": {
   "display_name": "Python 3.8.5 64-bit",
   "language": "python",
   "name": "python38564bit862c23b62b374b3ea490c6af10ae8c85"
  },
  "language_info": {
   "codemirror_mode": {
    "name": "ipython",
    "version": 3
   },
   "file_extension": ".py",
   "mimetype": "text/x-python",
   "name": "python",
   "nbconvert_exporter": "python",
   "pygments_lexer": "ipython3",
   "version": "3.8.5"
  }
 },
 "nbformat": 4,
 "nbformat_minor": 4
}
